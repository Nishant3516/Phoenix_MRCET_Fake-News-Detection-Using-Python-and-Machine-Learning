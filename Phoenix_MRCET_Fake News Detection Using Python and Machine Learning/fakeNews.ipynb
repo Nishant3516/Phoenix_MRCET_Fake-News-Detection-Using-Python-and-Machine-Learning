{
 "cells": [
  {
   "cell_type": "markdown",
   "id": "154613e8-aad0-48b8-b48a-336da6f064ed",
   "metadata": {},
   "source": [
    "<font size =\"4\">**Importing all the libraries**</font>"
   ]
  },
  {
   "cell_type": "code",
   "execution_count": 38,
   "id": "7c7965d8-770f-4236-84d5-bb731974830e",
   "metadata": {
    "tags": []
   },
   "outputs": [
    {
     "name": "stdout",
     "output_type": "stream",
     "text": [
      "Unexpected exception formatting exception. Falling back to standard exception\n"
     ]
    },
    {
     "name": "stderr",
     "output_type": "stream",
     "text": [
      "Traceback (most recent call last):\n",
      "  File \"c:\\Users\\bansa\\Desktop\\FND\\fakenews\\lib\\site-packages\\IPython\\core\\interactiveshell.py\", line 3508, in run_code\n",
      "  File \"C:\\Users\\bansa\\AppData\\Local\\Temp\\ipykernel_4484\\466795354.py\", line 2, in <module>\n",
      "    import pandas as pd\n",
      "ModuleNotFoundError: No module named 'pandas'\n",
      "\n",
      "During handling of the above exception, another exception occurred:\n",
      "\n",
      "Traceback (most recent call last):\n",
      "  File \"c:\\Users\\bansa\\Desktop\\FND\\fakenews\\lib\\site-packages\\pygments\\styles\\__init__.py\", line 89, in get_style_by_name\n",
      "ModuleNotFoundError: No module named 'pygments.styles.default'\n",
      "\n",
      "During handling of the above exception, another exception occurred:\n",
      "\n",
      "Traceback (most recent call last):\n",
      "  File \"c:\\Users\\bansa\\Desktop\\FND\\fakenews\\lib\\site-packages\\IPython\\core\\interactiveshell.py\", line 2105, in showtraceback\n",
      "  File \"c:\\Users\\bansa\\Desktop\\FND\\fakenews\\lib\\site-packages\\IPython\\core\\ultratb.py\", line 1428, in structured_traceback\n",
      "  File \"c:\\Users\\bansa\\Desktop\\FND\\fakenews\\lib\\site-packages\\IPython\\core\\ultratb.py\", line 1319, in structured_traceback\n",
      "  File \"c:\\Users\\bansa\\Desktop\\FND\\fakenews\\lib\\site-packages\\IPython\\core\\ultratb.py\", line 1172, in structured_traceback\n",
      "  File \"c:\\Users\\bansa\\Desktop\\FND\\fakenews\\lib\\site-packages\\IPython\\core\\ultratb.py\", line 1062, in format_exception_as_a_whole\n",
      "  File \"c:\\Users\\bansa\\Desktop\\FND\\fakenews\\lib\\site-packages\\IPython\\core\\ultratb.py\", line 1113, in get_records\n",
      "  File \"c:\\Users\\bansa\\Desktop\\FND\\fakenews\\lib\\site-packages\\pygments\\styles\\__init__.py\", line 91, in get_style_by_name\n",
      "pygments.util.ClassNotFound: Could not find style module 'default', though it should be builtin.\n"
     ]
    }
   ],
   "source": [
    "# Importing necessary Libraries\n",
    "import pandas as pd\n",
    "import seaborn as sns\n",
    "import matplotlib.pyplot as plt\n",
    "from tqdm import tqdm\n",
    "import re\n",
    "import nltk\n",
    "import os\n",
    "\n",
    "# Downloading required NLTK resources\n",
    "nltk.download('punkt')\n",
    "nltk.download('stopwords')\n",
    "from sklearnex import patch_sklearn\n",
    "patch_sklearn()\n",
    "from nltk.tokenize import word_tokenize\n",
    "from nltk.corpus import stopwords\n",
    "from sklearn.model_selection import train_test_split\n",
    "from sklearn.metrics import accuracy_score, confusion_matrix, classification_report\n",
    "from sklearn.feature_extraction.text import CountVectorizer, TfidfVectorizer\n",
    "from sklearn.ensemble import RandomForestClassifier\n",
    "from sklearn.model_selection import train_test_split"
   ]
  },
  {
   "cell_type": "markdown",
   "id": "fa79260e-499f-4c75-8738-dc7ccae00ece",
   "metadata": {},
   "source": [
    "<font size =\"4\">**Downloading the dataset and extracting it to the appropriate data directory.**</font>"
   ]
  },
  {
   "cell_type": "code",
   "execution_count": 20,
   "id": "d5ea95d6-479f-4d44-b030-e01765f15bc3",
   "metadata": {},
   "outputs": [
    {
     "name": "stdout",
     "output_type": "stream",
     "text": [
      "Unexpected exception formatting exception. Falling back to standard exception\n"
     ]
    },
    {
     "name": "stderr",
     "output_type": "stream",
     "text": [
      "Traceback (most recent call last):\n",
      "  File \"c:\\Users\\bansa\\Desktop\\FND\\fakenews\\lib\\site-packages\\IPython\\core\\interactiveshell.py\", line 3508, in run_code\n",
      "  File \"C:\\Users\\bansa\\AppData\\Local\\Temp\\ipykernel_4484\\1815432806.py\", line 5, in <module>\n",
      "    if not os.path.exists(data_directory):\n",
      "NameError: name 'os' is not defined\n",
      "\n",
      "During handling of the above exception, another exception occurred:\n",
      "\n",
      "Traceback (most recent call last):\n",
      "  File \"c:\\Users\\bansa\\Desktop\\FND\\fakenews\\lib\\site-packages\\pygments\\styles\\__init__.py\", line 89, in get_style_by_name\n",
      "ModuleNotFoundError: No module named 'pygments.styles.default'\n",
      "\n",
      "During handling of the above exception, another exception occurred:\n",
      "\n",
      "Traceback (most recent call last):\n",
      "  File \"c:\\Users\\bansa\\Desktop\\FND\\fakenews\\lib\\site-packages\\IPython\\core\\interactiveshell.py\", line 2105, in showtraceback\n",
      "  File \"c:\\Users\\bansa\\Desktop\\FND\\fakenews\\lib\\site-packages\\IPython\\core\\ultratb.py\", line 1428, in structured_traceback\n",
      "  File \"c:\\Users\\bansa\\Desktop\\FND\\fakenews\\lib\\site-packages\\IPython\\core\\ultratb.py\", line 1319, in structured_traceback\n",
      "  File \"c:\\Users\\bansa\\Desktop\\FND\\fakenews\\lib\\site-packages\\IPython\\core\\ultratb.py\", line 1172, in structured_traceback\n",
      "  File \"c:\\Users\\bansa\\Desktop\\FND\\fakenews\\lib\\site-packages\\IPython\\core\\ultratb.py\", line 1062, in format_exception_as_a_whole\n",
      "  File \"c:\\Users\\bansa\\Desktop\\FND\\fakenews\\lib\\site-packages\\IPython\\core\\ultratb.py\", line 1113, in get_records\n",
      "  File \"c:\\Users\\bansa\\Desktop\\FND\\fakenews\\lib\\site-packages\\pygments\\styles\\__init__.py\", line 91, in get_style_by_name\n",
      "pygments.util.ClassNotFound: Could not find style module 'default', though it should be builtin.\n"
     ]
    }
   ],
   "source": [
    "# Define the directory path where the data will be stored\n",
    "data_directory = 'data/'\n",
    "\n",
    "# Check if the data directory already exists\n",
    "if not os.path.exists(data_directory):\n",
    "    # If the directory does not exist, create it\n",
    "    !mkdir data/\n",
    "    \n",
    "    # Download the dataset zip file from the provided URL to the data directory\n",
    "    !wget https://onlineacademiccommunity.uvic.ca/isot/wp-content/uploads/sites/7295/2023/03/News-_dataset.zip --directory-prefix=data/\n",
    "    \n",
    "    # Unzip the dataset file to the data directory\n",
    "    !unzip data/News-_dataset.zip -d data/\n"
   ]
  },
  {
   "cell_type": "markdown",
   "id": "399e8186-b94c-4f12-ae71-dd37341bb3ca",
   "metadata": {},
   "source": [
    "<font size=\"4\">**Read the data csv file**</font>"
   ]
  },
  {
   "cell_type": "code",
   "execution_count": 21,
   "id": "cb05fb15-bf15-4865-b9ad-4725306ee788",
   "metadata": {},
   "outputs": [
    {
     "name": "stdout",
     "output_type": "stream",
     "text": [
      "Unexpected exception formatting exception. Falling back to standard exception\n"
     ]
    },
    {
     "name": "stderr",
     "output_type": "stream",
     "text": [
      "Traceback (most recent call last):\n",
      "  File \"c:\\Users\\bansa\\Desktop\\FND\\fakenews\\lib\\site-packages\\IPython\\core\\interactiveshell.py\", line 3508, in run_code\n",
      "  File \"C:\\Users\\bansa\\AppData\\Local\\Temp\\ipykernel_4484\\2938194558.py\", line 2, in <module>\n",
      "    fake_data = pd.read_csv('data2/Fake.csv')\n",
      "NameError: name 'pd' is not defined\n",
      "\n",
      "During handling of the above exception, another exception occurred:\n",
      "\n",
      "Traceback (most recent call last):\n",
      "  File \"c:\\Users\\bansa\\Desktop\\FND\\fakenews\\lib\\site-packages\\pygments\\styles\\__init__.py\", line 89, in get_style_by_name\n",
      "ModuleNotFoundError: No module named 'pygments.styles.default'\n",
      "\n",
      "During handling of the above exception, another exception occurred:\n",
      "\n",
      "Traceback (most recent call last):\n",
      "  File \"c:\\Users\\bansa\\Desktop\\FND\\fakenews\\lib\\site-packages\\IPython\\core\\interactiveshell.py\", line 2105, in showtraceback\n",
      "  File \"c:\\Users\\bansa\\Desktop\\FND\\fakenews\\lib\\site-packages\\IPython\\core\\ultratb.py\", line 1428, in structured_traceback\n",
      "  File \"c:\\Users\\bansa\\Desktop\\FND\\fakenews\\lib\\site-packages\\IPython\\core\\ultratb.py\", line 1319, in structured_traceback\n",
      "  File \"c:\\Users\\bansa\\Desktop\\FND\\fakenews\\lib\\site-packages\\IPython\\core\\ultratb.py\", line 1172, in structured_traceback\n",
      "  File \"c:\\Users\\bansa\\Desktop\\FND\\fakenews\\lib\\site-packages\\IPython\\core\\ultratb.py\", line 1062, in format_exception_as_a_whole\n",
      "  File \"c:\\Users\\bansa\\Desktop\\FND\\fakenews\\lib\\site-packages\\IPython\\core\\ultratb.py\", line 1113, in get_records\n",
      "  File \"c:\\Users\\bansa\\Desktop\\FND\\fakenews\\lib\\site-packages\\pygments\\styles\\__init__.py\", line 91, in get_style_by_name\n",
      "pygments.util.ClassNotFound: Could not find style module 'default', though it should be builtin.\n"
     ]
    }
   ],
   "source": [
    "# Read the CSV file containing fake data into a Pandas DataFrame\n",
    "fake_data = pd.read_csv('data2/Fake.csv')\n",
    "\n",
    "# Display the first few rows of the DataFrame to get a glimpse of the data\n",
    "fake_data.head()"
   ]
  },
  {
   "cell_type": "code",
   "execution_count": 22,
   "id": "cb2a7993-0634-48e6-9bdf-7316c5c2ea02",
   "metadata": {},
   "outputs": [
    {
     "name": "stdout",
     "output_type": "stream",
     "text": [
      "Unexpected exception formatting exception. Falling back to standard exception\n"
     ]
    },
    {
     "name": "stderr",
     "output_type": "stream",
     "text": [
      "Traceback (most recent call last):\n",
      "  File \"c:\\Users\\bansa\\Desktop\\FND\\fakenews\\lib\\site-packages\\IPython\\core\\interactiveshell.py\", line 3508, in run_code\n",
      "  File \"C:\\Users\\bansa\\AppData\\Local\\Temp\\ipykernel_4484\\720735469.py\", line 2, in <module>\n",
      "    true_data = pd.read_csv('data2/True.csv')\n",
      "NameError: name 'pd' is not defined\n",
      "\n",
      "During handling of the above exception, another exception occurred:\n",
      "\n",
      "Traceback (most recent call last):\n",
      "  File \"c:\\Users\\bansa\\Desktop\\FND\\fakenews\\lib\\site-packages\\pygments\\styles\\__init__.py\", line 89, in get_style_by_name\n",
      "ModuleNotFoundError: No module named 'pygments.styles.default'\n",
      "\n",
      "During handling of the above exception, another exception occurred:\n",
      "\n",
      "Traceback (most recent call last):\n",
      "  File \"c:\\Users\\bansa\\Desktop\\FND\\fakenews\\lib\\site-packages\\IPython\\core\\interactiveshell.py\", line 2105, in showtraceback\n",
      "  File \"c:\\Users\\bansa\\Desktop\\FND\\fakenews\\lib\\site-packages\\IPython\\core\\ultratb.py\", line 1428, in structured_traceback\n",
      "  File \"c:\\Users\\bansa\\Desktop\\FND\\fakenews\\lib\\site-packages\\IPython\\core\\ultratb.py\", line 1319, in structured_traceback\n",
      "  File \"c:\\Users\\bansa\\Desktop\\FND\\fakenews\\lib\\site-packages\\IPython\\core\\ultratb.py\", line 1172, in structured_traceback\n",
      "  File \"c:\\Users\\bansa\\Desktop\\FND\\fakenews\\lib\\site-packages\\IPython\\core\\ultratb.py\", line 1062, in format_exception_as_a_whole\n",
      "  File \"c:\\Users\\bansa\\Desktop\\FND\\fakenews\\lib\\site-packages\\IPython\\core\\ultratb.py\", line 1113, in get_records\n",
      "  File \"c:\\Users\\bansa\\Desktop\\FND\\fakenews\\lib\\site-packages\\pygments\\styles\\__init__.py\", line 91, in get_style_by_name\n",
      "pygments.util.ClassNotFound: Could not find style module 'default', though it should be builtin.\n"
     ]
    }
   ],
   "source": [
    "# Read the CSV file containing true data into a Pandas DataFrame\n",
    "true_data = pd.read_csv('data2/True.csv')\n",
    "\n",
    "# Display the first few rows of the DataFrame to get a glimpse of the data\n",
    "true_data.head()"
   ]
  },
  {
   "cell_type": "markdown",
   "id": "e63f9f67-ac53-46cc-abc8-0d14b048fb2a",
   "metadata": {},
   "source": [
    "Assigning Classes to the Dataset"
   ]
  },
  {
   "cell_type": "code",
   "execution_count": 23,
   "id": "13c6957f-797b-4fe2-8b2a-daa10f157765",
   "metadata": {},
   "outputs": [
    {
     "name": "stdout",
     "output_type": "stream",
     "text": [
      "Unexpected exception formatting exception. Falling back to standard exception\n"
     ]
    },
    {
     "name": "stderr",
     "output_type": "stream",
     "text": [
      "Traceback (most recent call last):\n",
      "  File \"c:\\Users\\bansa\\Desktop\\FND\\fakenews\\lib\\site-packages\\IPython\\core\\interactiveshell.py\", line 3508, in run_code\n",
      "  File \"C:\\Users\\bansa\\AppData\\Local\\Temp\\ipykernel_4484\\2679928667.py\", line 2, in <module>\n",
      "    true_data[\"label\"] = 1  # Assign label 1 to true_data indicating true news\n",
      "NameError: name 'true_data' is not defined\n",
      "\n",
      "During handling of the above exception, another exception occurred:\n",
      "\n",
      "Traceback (most recent call last):\n",
      "  File \"c:\\Users\\bansa\\Desktop\\FND\\fakenews\\lib\\site-packages\\pygments\\styles\\__init__.py\", line 89, in get_style_by_name\n",
      "ModuleNotFoundError: No module named 'pygments.styles.default'\n",
      "\n",
      "During handling of the above exception, another exception occurred:\n",
      "\n",
      "Traceback (most recent call last):\n",
      "  File \"c:\\Users\\bansa\\Desktop\\FND\\fakenews\\lib\\site-packages\\IPython\\core\\interactiveshell.py\", line 2105, in showtraceback\n",
      "  File \"c:\\Users\\bansa\\Desktop\\FND\\fakenews\\lib\\site-packages\\IPython\\core\\ultratb.py\", line 1428, in structured_traceback\n",
      "  File \"c:\\Users\\bansa\\Desktop\\FND\\fakenews\\lib\\site-packages\\IPython\\core\\ultratb.py\", line 1319, in structured_traceback\n",
      "  File \"c:\\Users\\bansa\\Desktop\\FND\\fakenews\\lib\\site-packages\\IPython\\core\\ultratb.py\", line 1172, in structured_traceback\n",
      "  File \"c:\\Users\\bansa\\Desktop\\FND\\fakenews\\lib\\site-packages\\IPython\\core\\ultratb.py\", line 1062, in format_exception_as_a_whole\n",
      "  File \"c:\\Users\\bansa\\Desktop\\FND\\fakenews\\lib\\site-packages\\IPython\\core\\ultratb.py\", line 1113, in get_records\n",
      "  File \"c:\\Users\\bansa\\Desktop\\FND\\fakenews\\lib\\site-packages\\pygments\\styles\\__init__.py\", line 91, in get_style_by_name\n",
      "pygments.util.ClassNotFound: Could not find style module 'default', though it should be builtin.\n"
     ]
    }
   ],
   "source": [
    "# Assigning labels to the true and fake data\n",
    "true_data[\"label\"] = 1  # Assign label 1 to true_data indicating true news\n",
    "fake_data[\"label\"] = 0  # Assign label 0 to fake_data indicating fake news\n"
   ]
  },
  {
   "cell_type": "markdown",
   "id": "5737d553-e902-4c2e-8e07-152bd39758b6",
   "metadata": {},
   "source": [
    "Merging Both the Dataset"
   ]
  },
  {
   "cell_type": "code",
   "execution_count": 24,
   "id": "c9fde258-6357-4c61-b65a-1511ef8d9f5f",
   "metadata": {},
   "outputs": [
    {
     "name": "stdout",
     "output_type": "stream",
     "text": [
      "Unexpected exception formatting exception. Falling back to standard exception\n"
     ]
    },
    {
     "name": "stderr",
     "output_type": "stream",
     "text": [
      "Traceback (most recent call last):\n",
      "  File \"c:\\Users\\bansa\\Desktop\\FND\\fakenews\\lib\\site-packages\\IPython\\core\\interactiveshell.py\", line 3508, in run_code\n",
      "  File \"C:\\Users\\bansa\\AppData\\Local\\Temp\\ipykernel_4484\\1953028863.py\", line 1, in <module>\n",
      "    data = pd.concat([true_data, fake_data], axis=0)\n",
      "NameError: name 'pd' is not defined\n",
      "\n",
      "During handling of the above exception, another exception occurred:\n",
      "\n",
      "Traceback (most recent call last):\n",
      "  File \"c:\\Users\\bansa\\Desktop\\FND\\fakenews\\lib\\site-packages\\pygments\\styles\\__init__.py\", line 89, in get_style_by_name\n",
      "ModuleNotFoundError: No module named 'pygments.styles.default'\n",
      "\n",
      "During handling of the above exception, another exception occurred:\n",
      "\n",
      "Traceback (most recent call last):\n",
      "  File \"c:\\Users\\bansa\\Desktop\\FND\\fakenews\\lib\\site-packages\\IPython\\core\\interactiveshell.py\", line 2105, in showtraceback\n",
      "  File \"c:\\Users\\bansa\\Desktop\\FND\\fakenews\\lib\\site-packages\\IPython\\core\\ultratb.py\", line 1428, in structured_traceback\n",
      "  File \"c:\\Users\\bansa\\Desktop\\FND\\fakenews\\lib\\site-packages\\IPython\\core\\ultratb.py\", line 1319, in structured_traceback\n",
      "  File \"c:\\Users\\bansa\\Desktop\\FND\\fakenews\\lib\\site-packages\\IPython\\core\\ultratb.py\", line 1172, in structured_traceback\n",
      "  File \"c:\\Users\\bansa\\Desktop\\FND\\fakenews\\lib\\site-packages\\IPython\\core\\ultratb.py\", line 1062, in format_exception_as_a_whole\n",
      "  File \"c:\\Users\\bansa\\Desktop\\FND\\fakenews\\lib\\site-packages\\IPython\\core\\ultratb.py\", line 1113, in get_records\n",
      "  File \"c:\\Users\\bansa\\Desktop\\FND\\fakenews\\lib\\site-packages\\pygments\\styles\\__init__.py\", line 91, in get_style_by_name\n",
      "pygments.util.ClassNotFound: Could not find style module 'default', though it should be builtin.\n"
     ]
    }
   ],
   "source": [
    "data = pd.concat([true_data, fake_data], axis=0)"
   ]
  },
  {
   "cell_type": "markdown",
   "id": "a43f1432-f622-4f55-814b-beba9d486fdb",
   "metadata": {},
   "source": [
    "Visualization of the text data based on subject column"
   ]
  },
  {
   "cell_type": "code",
   "execution_count": 25,
   "id": "934fe91d-e4ce-4a1d-b31f-1baf6d9a912c",
   "metadata": {},
   "outputs": [
    {
     "name": "stdout",
     "output_type": "stream",
     "text": [
      "Unexpected exception formatting exception. Falling back to standard exception\n"
     ]
    },
    {
     "name": "stderr",
     "output_type": "stream",
     "text": [
      "Traceback (most recent call last):\n",
      "  File \"c:\\Users\\bansa\\Desktop\\FND\\fakenews\\lib\\site-packages\\IPython\\core\\interactiveshell.py\", line 3508, in run_code\n",
      "  File \"C:\\Users\\bansa\\AppData\\Local\\Temp\\ipykernel_4484\\1664956671.py\", line 1, in <module>\n",
      "    plt.figure(figsize = (6,4))   # specifying the size of the figure\n",
      "NameError: name 'plt' is not defined\n",
      "\n",
      "During handling of the above exception, another exception occurred:\n",
      "\n",
      "Traceback (most recent call last):\n",
      "  File \"c:\\Users\\bansa\\Desktop\\FND\\fakenews\\lib\\site-packages\\pygments\\styles\\__init__.py\", line 89, in get_style_by_name\n",
      "ModuleNotFoundError: No module named 'pygments.styles.default'\n",
      "\n",
      "During handling of the above exception, another exception occurred:\n",
      "\n",
      "Traceback (most recent call last):\n",
      "  File \"c:\\Users\\bansa\\Desktop\\FND\\fakenews\\lib\\site-packages\\IPython\\core\\interactiveshell.py\", line 2105, in showtraceback\n",
      "  File \"c:\\Users\\bansa\\Desktop\\FND\\fakenews\\lib\\site-packages\\IPython\\core\\ultratb.py\", line 1428, in structured_traceback\n",
      "  File \"c:\\Users\\bansa\\Desktop\\FND\\fakenews\\lib\\site-packages\\IPython\\core\\ultratb.py\", line 1319, in structured_traceback\n",
      "  File \"c:\\Users\\bansa\\Desktop\\FND\\fakenews\\lib\\site-packages\\IPython\\core\\ultratb.py\", line 1172, in structured_traceback\n",
      "  File \"c:\\Users\\bansa\\Desktop\\FND\\fakenews\\lib\\site-packages\\IPython\\core\\ultratb.py\", line 1062, in format_exception_as_a_whole\n",
      "  File \"c:\\Users\\bansa\\Desktop\\FND\\fakenews\\lib\\site-packages\\IPython\\core\\ultratb.py\", line 1113, in get_records\n",
      "  File \"c:\\Users\\bansa\\Desktop\\FND\\fakenews\\lib\\site-packages\\pygments\\styles\\__init__.py\", line 91, in get_style_by_name\n",
      "pygments.util.ClassNotFound: Could not find style module 'default', though it should be builtin.\n"
     ]
    }
   ],
   "source": [
    "plt.figure(figsize = (6,4))   # specifying the size of the figure\n",
    "sns.set(style = \"whitegrid\",font_scale = 1.0)   # styling of the figure\n",
    "chart = sns.countplot(x = \"subject\", data = data)\n",
    "chart.set_xticklabels(chart.get_xticklabels(),rotation=90)"
   ]
  },
  {
   "cell_type": "markdown",
   "id": "8c238285-6127-49bd-a2a6-1500532fd0d5",
   "metadata": {},
   "source": [
    "<font size=\"4\">**Data preprocessing**</font>"
   ]
  },
  {
   "cell_type": "code",
   "execution_count": 26,
   "id": "9d8ede7a-b883-4d8e-8f9b-94fba6206b98",
   "metadata": {},
   "outputs": [
    {
     "name": "stdout",
     "output_type": "stream",
     "text": [
      "Unexpected exception formatting exception. Falling back to standard exception\n"
     ]
    },
    {
     "name": "stderr",
     "output_type": "stream",
     "text": [
      "Traceback (most recent call last):\n",
      "  File \"c:\\Users\\bansa\\Desktop\\FND\\fakenews\\lib\\site-packages\\IPython\\core\\interactiveshell.py\", line 3508, in run_code\n",
      "  File \"C:\\Users\\bansa\\AppData\\Local\\Temp\\ipykernel_4484\\3864758181.py\", line 1, in <module>\n",
      "    data['text'] = data['title'] +' '+data['text']\n",
      "NameError: name 'data' is not defined\n",
      "\n",
      "During handling of the above exception, another exception occurred:\n",
      "\n",
      "Traceback (most recent call last):\n",
      "  File \"c:\\Users\\bansa\\Desktop\\FND\\fakenews\\lib\\site-packages\\pygments\\styles\\__init__.py\", line 89, in get_style_by_name\n",
      "ModuleNotFoundError: No module named 'pygments.styles.default'\n",
      "\n",
      "During handling of the above exception, another exception occurred:\n",
      "\n",
      "Traceback (most recent call last):\n",
      "  File \"c:\\Users\\bansa\\Desktop\\FND\\fakenews\\lib\\site-packages\\IPython\\core\\interactiveshell.py\", line 2105, in showtraceback\n",
      "  File \"c:\\Users\\bansa\\Desktop\\FND\\fakenews\\lib\\site-packages\\IPython\\core\\ultratb.py\", line 1428, in structured_traceback\n",
      "  File \"c:\\Users\\bansa\\Desktop\\FND\\fakenews\\lib\\site-packages\\IPython\\core\\ultratb.py\", line 1319, in structured_traceback\n",
      "  File \"c:\\Users\\bansa\\Desktop\\FND\\fakenews\\lib\\site-packages\\IPython\\core\\ultratb.py\", line 1172, in structured_traceback\n",
      "  File \"c:\\Users\\bansa\\Desktop\\FND\\fakenews\\lib\\site-packages\\IPython\\core\\ultratb.py\", line 1062, in format_exception_as_a_whole\n",
      "  File \"c:\\Users\\bansa\\Desktop\\FND\\fakenews\\lib\\site-packages\\IPython\\core\\ultratb.py\", line 1113, in get_records\n",
      "  File \"c:\\Users\\bansa\\Desktop\\FND\\fakenews\\lib\\site-packages\\pygments\\styles\\__init__.py\", line 91, in get_style_by_name\n",
      "pygments.util.ClassNotFound: Could not find style module 'default', though it should be builtin.\n"
     ]
    }
   ],
   "source": [
    "data['text'] = data['title'] +' '+data['text']\n",
    "# Either you could data.drop[\"column names\"] or del data[\"column names\"]\n",
    "del data['title']\n",
    "del data['subject']\n",
    "del data['date']"
   ]
  },
  {
   "cell_type": "code",
   "execution_count": 27,
   "id": "de9c8121-f290-4020-9fbf-7ee074fafbf9",
   "metadata": {},
   "outputs": [
    {
     "name": "stdout",
     "output_type": "stream",
     "text": [
      "Unexpected exception formatting exception. Falling back to standard exception\n"
     ]
    },
    {
     "name": "stderr",
     "output_type": "stream",
     "text": [
      "Traceback (most recent call last):\n",
      "  File \"c:\\Users\\bansa\\Desktop\\FND\\fakenews\\lib\\site-packages\\IPython\\core\\interactiveshell.py\", line 3508, in run_code\n",
      "  File \"C:\\Users\\bansa\\AppData\\Local\\Temp\\ipykernel_4484\\3870928973.py\", line 1, in <module>\n",
      "    data.head()\n",
      "NameError: name 'data' is not defined\n",
      "\n",
      "During handling of the above exception, another exception occurred:\n",
      "\n",
      "Traceback (most recent call last):\n",
      "  File \"c:\\Users\\bansa\\Desktop\\FND\\fakenews\\lib\\site-packages\\pygments\\styles\\__init__.py\", line 89, in get_style_by_name\n",
      "ModuleNotFoundError: No module named 'pygments.styles.default'\n",
      "\n",
      "During handling of the above exception, another exception occurred:\n",
      "\n",
      "Traceback (most recent call last):\n",
      "  File \"c:\\Users\\bansa\\Desktop\\FND\\fakenews\\lib\\site-packages\\IPython\\core\\interactiveshell.py\", line 2105, in showtraceback\n",
      "  File \"c:\\Users\\bansa\\Desktop\\FND\\fakenews\\lib\\site-packages\\IPython\\core\\ultratb.py\", line 1428, in structured_traceback\n",
      "  File \"c:\\Users\\bansa\\Desktop\\FND\\fakenews\\lib\\site-packages\\IPython\\core\\ultratb.py\", line 1319, in structured_traceback\n",
      "  File \"c:\\Users\\bansa\\Desktop\\FND\\fakenews\\lib\\site-packages\\IPython\\core\\ultratb.py\", line 1172, in structured_traceback\n",
      "  File \"c:\\Users\\bansa\\Desktop\\FND\\fakenews\\lib\\site-packages\\IPython\\core\\ultratb.py\", line 1062, in format_exception_as_a_whole\n",
      "  File \"c:\\Users\\bansa\\Desktop\\FND\\fakenews\\lib\\site-packages\\IPython\\core\\ultratb.py\", line 1113, in get_records\n",
      "  File \"c:\\Users\\bansa\\Desktop\\FND\\fakenews\\lib\\site-packages\\pygments\\styles\\__init__.py\", line 91, in get_style_by_name\n",
      "pygments.util.ClassNotFound: Could not find style module 'default', though it should be builtin.\n"
     ]
    }
   ],
   "source": [
    "data.head()"
   ]
  },
  {
   "cell_type": "markdown",
   "id": "4652748f-4c28-43e0-ab74-68acb431d180",
   "metadata": {},
   "source": [
    "As the title, author column will not going to be helpful in identification of the news. So, we can drop these column."
   ]
  },
  {
   "cell_type": "code",
   "execution_count": 28,
   "id": "4833cc13-bfbe-4447-b4b7-f4253170b193",
   "metadata": {},
   "outputs": [
    {
     "name": "stdout",
     "output_type": "stream",
     "text": [
      "Unexpected exception formatting exception. Falling back to standard exception\n"
     ]
    },
    {
     "name": "stderr",
     "output_type": "stream",
     "text": [
      "Traceback (most recent call last):\n",
      "  File \"c:\\Users\\bansa\\Desktop\\FND\\fakenews\\lib\\site-packages\\IPython\\core\\interactiveshell.py\", line 3508, in run_code\n",
      "  File \"C:\\Users\\bansa\\AppData\\Local\\Temp\\ipykernel_4484\\3993293784.py\", line 1, in <module>\n",
      "    data.shape\n",
      "NameError: name 'data' is not defined\n",
      "\n",
      "During handling of the above exception, another exception occurred:\n",
      "\n",
      "Traceback (most recent call last):\n",
      "  File \"c:\\Users\\bansa\\Desktop\\FND\\fakenews\\lib\\site-packages\\pygments\\styles\\__init__.py\", line 89, in get_style_by_name\n",
      "ModuleNotFoundError: No module named 'pygments.styles.default'\n",
      "\n",
      "During handling of the above exception, another exception occurred:\n",
      "\n",
      "Traceback (most recent call last):\n",
      "  File \"c:\\Users\\bansa\\Desktop\\FND\\fakenews\\lib\\site-packages\\IPython\\core\\interactiveshell.py\", line 2105, in showtraceback\n",
      "  File \"c:\\Users\\bansa\\Desktop\\FND\\fakenews\\lib\\site-packages\\IPython\\core\\ultratb.py\", line 1428, in structured_traceback\n",
      "  File \"c:\\Users\\bansa\\Desktop\\FND\\fakenews\\lib\\site-packages\\IPython\\core\\ultratb.py\", line 1319, in structured_traceback\n",
      "  File \"c:\\Users\\bansa\\Desktop\\FND\\fakenews\\lib\\site-packages\\IPython\\core\\ultratb.py\", line 1172, in structured_traceback\n",
      "  File \"c:\\Users\\bansa\\Desktop\\FND\\fakenews\\lib\\site-packages\\IPython\\core\\ultratb.py\", line 1062, in format_exception_as_a_whole\n",
      "  File \"c:\\Users\\bansa\\Desktop\\FND\\fakenews\\lib\\site-packages\\IPython\\core\\ultratb.py\", line 1113, in get_records\n",
      "  File \"c:\\Users\\bansa\\Desktop\\FND\\fakenews\\lib\\site-packages\\pygments\\styles\\__init__.py\", line 91, in get_style_by_name\n",
      "pygments.util.ClassNotFound: Could not find style module 'default', though it should be builtin.\n"
     ]
    }
   ],
   "source": [
    "data.shape"
   ]
  },
  {
   "cell_type": "markdown",
   "id": "74ed0eb9-3afb-43c5-b0a3-1a13dc63f239",
   "metadata": {},
   "source": [
    "Check if there is any null value (If so, then we will drop those rows)"
   ]
  },
  {
   "cell_type": "code",
   "execution_count": 29,
   "id": "32e91398-a10c-4ce9-a0b8-f1331e6482fc",
   "metadata": {},
   "outputs": [
    {
     "name": "stdout",
     "output_type": "stream",
     "text": [
      "Unexpected exception formatting exception. Falling back to standard exception\n"
     ]
    },
    {
     "name": "stderr",
     "output_type": "stream",
     "text": [
      "Traceback (most recent call last):\n",
      "  File \"c:\\Users\\bansa\\Desktop\\FND\\fakenews\\lib\\site-packages\\IPython\\core\\interactiveshell.py\", line 3508, in run_code\n",
      "  File \"C:\\Users\\bansa\\AppData\\Local\\Temp\\ipykernel_4484\\2889515435.py\", line 1, in <module>\n",
      "    data.isnull().sum() # get the count of missing/NULL values for each column. if present remove missing values\n",
      "NameError: name 'data' is not defined\n",
      "\n",
      "During handling of the above exception, another exception occurred:\n",
      "\n",
      "Traceback (most recent call last):\n",
      "  File \"c:\\Users\\bansa\\Desktop\\FND\\fakenews\\lib\\site-packages\\pygments\\styles\\__init__.py\", line 89, in get_style_by_name\n",
      "ModuleNotFoundError: No module named 'pygments.styles.default'\n",
      "\n",
      "During handling of the above exception, another exception occurred:\n",
      "\n",
      "Traceback (most recent call last):\n",
      "  File \"c:\\Users\\bansa\\Desktop\\FND\\fakenews\\lib\\site-packages\\IPython\\core\\interactiveshell.py\", line 2105, in showtraceback\n",
      "  File \"c:\\Users\\bansa\\Desktop\\FND\\fakenews\\lib\\site-packages\\IPython\\core\\ultratb.py\", line 1428, in structured_traceback\n",
      "  File \"c:\\Users\\bansa\\Desktop\\FND\\fakenews\\lib\\site-packages\\IPython\\core\\ultratb.py\", line 1319, in structured_traceback\n",
      "  File \"c:\\Users\\bansa\\Desktop\\FND\\fakenews\\lib\\site-packages\\IPython\\core\\ultratb.py\", line 1172, in structured_traceback\n",
      "  File \"c:\\Users\\bansa\\Desktop\\FND\\fakenews\\lib\\site-packages\\IPython\\core\\ultratb.py\", line 1062, in format_exception_as_a_whole\n",
      "  File \"c:\\Users\\bansa\\Desktop\\FND\\fakenews\\lib\\site-packages\\IPython\\core\\ultratb.py\", line 1113, in get_records\n",
      "  File \"c:\\Users\\bansa\\Desktop\\FND\\fakenews\\lib\\site-packages\\pygments\\styles\\__init__.py\", line 91, in get_style_by_name\n",
      "pygments.util.ClassNotFound: Could not find style module 'default', though it should be builtin.\n"
     ]
    }
   ],
   "source": [
    "data.isnull().sum() # get the count of missing/NULL values for each column. if present remove missing values"
   ]
  },
  {
   "cell_type": "markdown",
   "id": "fc7c10c8-bca7-4fdd-971e-ee2e9276ff1f",
   "metadata": {},
   "source": [
    " Now we have to shuffle the dataset to prevent the model to get bias"
   ]
  },
  {
   "cell_type": "code",
   "execution_count": 30,
   "id": "60329ea8-7192-4c8d-aab6-a89fd7215f8d",
   "metadata": {},
   "outputs": [
    {
     "name": "stdout",
     "output_type": "stream",
     "text": [
      "Unexpected exception formatting exception. Falling back to standard exception\n"
     ]
    },
    {
     "name": "stderr",
     "output_type": "stream",
     "text": [
      "Traceback (most recent call last):\n",
      "  File \"c:\\Users\\bansa\\Desktop\\FND\\fakenews\\lib\\site-packages\\IPython\\core\\interactiveshell.py\", line 3508, in run_code\n",
      "  File \"C:\\Users\\bansa\\AppData\\Local\\Temp\\ipykernel_4484\\2524415689.py\", line 2, in <module>\n",
      "    data = data.sample(frac=1).reset_index(drop=True)\n",
      "NameError: name 'data' is not defined\n",
      "\n",
      "During handling of the above exception, another exception occurred:\n",
      "\n",
      "Traceback (most recent call last):\n",
      "  File \"c:\\Users\\bansa\\Desktop\\FND\\fakenews\\lib\\site-packages\\pygments\\styles\\__init__.py\", line 89, in get_style_by_name\n",
      "ModuleNotFoundError: No module named 'pygments.styles.default'\n",
      "\n",
      "During handling of the above exception, another exception occurred:\n",
      "\n",
      "Traceback (most recent call last):\n",
      "  File \"c:\\Users\\bansa\\Desktop\\FND\\fakenews\\lib\\site-packages\\IPython\\core\\interactiveshell.py\", line 2105, in showtraceback\n",
      "  File \"c:\\Users\\bansa\\Desktop\\FND\\fakenews\\lib\\site-packages\\IPython\\core\\ultratb.py\", line 1428, in structured_traceback\n",
      "  File \"c:\\Users\\bansa\\Desktop\\FND\\fakenews\\lib\\site-packages\\IPython\\core\\ultratb.py\", line 1319, in structured_traceback\n",
      "  File \"c:\\Users\\bansa\\Desktop\\FND\\fakenews\\lib\\site-packages\\IPython\\core\\ultratb.py\", line 1172, in structured_traceback\n",
      "  File \"c:\\Users\\bansa\\Desktop\\FND\\fakenews\\lib\\site-packages\\IPython\\core\\ultratb.py\", line 1062, in format_exception_as_a_whole\n",
      "  File \"c:\\Users\\bansa\\Desktop\\FND\\fakenews\\lib\\site-packages\\IPython\\core\\ultratb.py\", line 1113, in get_records\n",
      "  File \"c:\\Users\\bansa\\Desktop\\FND\\fakenews\\lib\\site-packages\\pygments\\styles\\__init__.py\", line 91, in get_style_by_name\n",
      "pygments.util.ClassNotFound: Could not find style module 'default', though it should be builtin.\n"
     ]
    }
   ],
   "source": [
    "#Shuffling the data by sampling it randomly, then resetting the index and dropping the previous index column\n",
    "data = data.sample(frac=1).reset_index(drop=True)\n",
    "data.head()"
   ]
  },
  {
   "cell_type": "markdown",
   "id": "600d4362-f13e-4b89-a2be-8fd43a3e899f",
   "metadata": {},
   "source": [
    "Now Let’s explore the unique values in the each category using below code."
   ]
  },
  {
   "cell_type": "code",
   "execution_count": 31,
   "id": "0d61e19e-af3b-4bd7-899a-42ad1a711df7",
   "metadata": {},
   "outputs": [
    {
     "name": "stdout",
     "output_type": "stream",
     "text": [
      "Unexpected exception formatting exception. Falling back to standard exception\n"
     ]
    },
    {
     "name": "stderr",
     "output_type": "stream",
     "text": [
      "Traceback (most recent call last):\n",
      "  File \"c:\\Users\\bansa\\Desktop\\FND\\fakenews\\lib\\site-packages\\IPython\\core\\interactiveshell.py\", line 3508, in run_code\n",
      "  File \"C:\\Users\\bansa\\AppData\\Local\\Temp\\ipykernel_4484\\1670885760.py\", line 1, in <module>\n",
      "    sns.countplot(data=data,\n",
      "NameError: name 'sns' is not defined\n",
      "\n",
      "During handling of the above exception, another exception occurred:\n",
      "\n",
      "Traceback (most recent call last):\n",
      "  File \"c:\\Users\\bansa\\Desktop\\FND\\fakenews\\lib\\site-packages\\pygments\\styles\\__init__.py\", line 89, in get_style_by_name\n",
      "ModuleNotFoundError: No module named 'pygments.styles.default'\n",
      "\n",
      "During handling of the above exception, another exception occurred:\n",
      "\n",
      "Traceback (most recent call last):\n",
      "  File \"c:\\Users\\bansa\\Desktop\\FND\\fakenews\\lib\\site-packages\\IPython\\core\\interactiveshell.py\", line 2105, in showtraceback\n",
      "  File \"c:\\Users\\bansa\\Desktop\\FND\\fakenews\\lib\\site-packages\\IPython\\core\\ultratb.py\", line 1428, in structured_traceback\n",
      "  File \"c:\\Users\\bansa\\Desktop\\FND\\fakenews\\lib\\site-packages\\IPython\\core\\ultratb.py\", line 1319, in structured_traceback\n",
      "  File \"c:\\Users\\bansa\\Desktop\\FND\\fakenews\\lib\\site-packages\\IPython\\core\\ultratb.py\", line 1172, in structured_traceback\n",
      "  File \"c:\\Users\\bansa\\Desktop\\FND\\fakenews\\lib\\site-packages\\IPython\\core\\ultratb.py\", line 1062, in format_exception_as_a_whole\n",
      "  File \"c:\\Users\\bansa\\Desktop\\FND\\fakenews\\lib\\site-packages\\IPython\\core\\ultratb.py\", line 1113, in get_records\n",
      "  File \"c:\\Users\\bansa\\Desktop\\FND\\fakenews\\lib\\site-packages\\pygments\\styles\\__init__.py\", line 91, in get_style_by_name\n",
      "pygments.util.ClassNotFound: Could not find style module 'default', though it should be builtin.\n"
     ]
    }
   ],
   "source": [
    "sns.countplot(data=data,\n",
    "              x='label',\n",
    "              order=data['label'].value_counts().index)"
   ]
  },
  {
   "cell_type": "markdown",
   "id": "9663eb04-37cd-49fd-bfd2-997dad697a3e",
   "metadata": {},
   "source": [
    "<font size=\"4\">**Data Cleaning**</font>"
   ]
  },
  {
   "cell_type": "markdown",
   "id": "945c6dd0-a316-4c47-92bc-2339505de433",
   "metadata": {},
   "source": [
    "Once we have all the required modules, we can create a function name preprocess text. This function will preprocess all the data given as input."
   ]
  },
  {
   "cell_type": "code",
   "execution_count": 32,
   "id": "3e447bc1-4def-4ca3-89b3-0ce11ee82bd0",
   "metadata": {},
   "outputs": [
    {
     "name": "stdout",
     "output_type": "stream",
     "text": [
      "Unexpected exception formatting exception. Falling back to standard exception\n"
     ]
    },
    {
     "name": "stderr",
     "output_type": "stream",
     "text": [
      "Traceback (most recent call last):\n",
      "  File \"c:\\Users\\bansa\\Desktop\\FND\\fakenews\\lib\\site-packages\\IPython\\core\\interactiveshell.py\", line 3508, in run_code\n",
      "  File \"C:\\Users\\bansa\\AppData\\Local\\Temp\\ipykernel_4484\\4085720069.py\", line 27, in <module>\n",
      "    data['text'] = data['text'].apply(preprocess_text)\n",
      "NameError: name 'data' is not defined\n",
      "\n",
      "During handling of the above exception, another exception occurred:\n",
      "\n",
      "Traceback (most recent call last):\n",
      "  File \"c:\\Users\\bansa\\Desktop\\FND\\fakenews\\lib\\site-packages\\pygments\\styles\\__init__.py\", line 89, in get_style_by_name\n",
      "ModuleNotFoundError: No module named 'pygments.styles.default'\n",
      "\n",
      "During handling of the above exception, another exception occurred:\n",
      "\n",
      "Traceback (most recent call last):\n",
      "  File \"c:\\Users\\bansa\\Desktop\\FND\\fakenews\\lib\\site-packages\\IPython\\core\\interactiveshell.py\", line 2105, in showtraceback\n",
      "  File \"c:\\Users\\bansa\\Desktop\\FND\\fakenews\\lib\\site-packages\\IPython\\core\\ultratb.py\", line 1428, in structured_traceback\n",
      "  File \"c:\\Users\\bansa\\Desktop\\FND\\fakenews\\lib\\site-packages\\IPython\\core\\ultratb.py\", line 1319, in structured_traceback\n",
      "  File \"c:\\Users\\bansa\\Desktop\\FND\\fakenews\\lib\\site-packages\\IPython\\core\\ultratb.py\", line 1172, in structured_traceback\n",
      "  File \"c:\\Users\\bansa\\Desktop\\FND\\fakenews\\lib\\site-packages\\IPython\\core\\ultratb.py\", line 1062, in format_exception_as_a_whole\n",
      "  File \"c:\\Users\\bansa\\Desktop\\FND\\fakenews\\lib\\site-packages\\IPython\\core\\ultratb.py\", line 1113, in get_records\n",
      "  File \"c:\\Users\\bansa\\Desktop\\FND\\fakenews\\lib\\site-packages\\pygments\\styles\\__init__.py\", line 91, in get_style_by_name\n",
      "pygments.util.ClassNotFound: Could not find style module 'default', though it should be builtin.\n"
     ]
    }
   ],
   "source": [
    "def preprocess_text(text):\n",
    "    # TODO: create a function to clean your data\n",
    " \n",
    "    # Remove links\n",
    "    text = re.sub(r'http\\S+|www\\S+|https\\S+', '', text)\n",
    "    \n",
    "    # Remove special symbols and non-word characters\n",
    "    text = re.sub(r'[^a-zA-Z\\s]', '', text)\n",
    "    \n",
    "    # Convert to lowercase\n",
    "    text = text.lower()\n",
    "    \n",
    "    # Remove whitespaces and newline characters\n",
    "    text = re.sub(r'\\s+', ' ', text)\n",
    "    \n",
    "    # Remove leading and trailing whitespaces\n",
    "    text = text.strip()\n",
    "    \n",
    "    # Removing numbers\n",
    "    text = re.sub(r'\\d+', '', text)\n",
    "    \n",
    "    # Removing stopwords\n",
    "    stop_words = set(stopwords.words('english'))\n",
    "    text = ' '.join(word for word in text.split() if word not in stop_words)\n",
    "\n",
    "    return text\n",
    "data['text'] = data['text'].apply(preprocess_text)"
   ]
  },
  {
   "cell_type": "code",
   "execution_count": null,
   "id": "fa504008-6a1c-414d-9c95-8392a0ecde8d",
   "metadata": {},
   "outputs": [],
   "source": []
  },
  {
   "cell_type": "markdown",
   "id": "57b30dbe-9ad1-425b-a27c-a222616a8b28",
   "metadata": {},
   "source": [
    "<font size=\"4\">**Converting text into Vectors**</font>"
   ]
  },
  {
   "cell_type": "code",
   "execution_count": 33,
   "id": "1660b5d8-c160-47c0-9a26-6471540ad6c4",
   "metadata": {},
   "outputs": [
    {
     "name": "stdout",
     "output_type": "stream",
     "text": [
      "Unexpected exception formatting exception. Falling back to standard exception\n"
     ]
    },
    {
     "name": "stderr",
     "output_type": "stream",
     "text": [
      "Traceback (most recent call last):\n",
      "  File \"c:\\Users\\bansa\\Desktop\\FND\\fakenews\\lib\\site-packages\\IPython\\core\\interactiveshell.py\", line 3508, in run_code\n",
      "  File \"C:\\Users\\bansa\\AppData\\Local\\Temp\\ipykernel_4484\\2175701335.py\", line 3, in <module>\n",
      "    X = data['text'].values\n",
      "NameError: name 'data' is not defined\n",
      "\n",
      "During handling of the above exception, another exception occurred:\n",
      "\n",
      "Traceback (most recent call last):\n",
      "  File \"c:\\Users\\bansa\\Desktop\\FND\\fakenews\\lib\\site-packages\\pygments\\styles\\__init__.py\", line 89, in get_style_by_name\n",
      "ModuleNotFoundError: No module named 'pygments.styles.default'\n",
      "\n",
      "During handling of the above exception, another exception occurred:\n",
      "\n",
      "Traceback (most recent call last):\n",
      "  File \"c:\\Users\\bansa\\Desktop\\FND\\fakenews\\lib\\site-packages\\IPython\\core\\interactiveshell.py\", line 2105, in showtraceback\n",
      "  File \"c:\\Users\\bansa\\Desktop\\FND\\fakenews\\lib\\site-packages\\IPython\\core\\ultratb.py\", line 1428, in structured_traceback\n",
      "  File \"c:\\Users\\bansa\\Desktop\\FND\\fakenews\\lib\\site-packages\\IPython\\core\\ultratb.py\", line 1319, in structured_traceback\n",
      "  File \"c:\\Users\\bansa\\Desktop\\FND\\fakenews\\lib\\site-packages\\IPython\\core\\ultratb.py\", line 1172, in structured_traceback\n",
      "  File \"c:\\Users\\bansa\\Desktop\\FND\\fakenews\\lib\\site-packages\\IPython\\core\\ultratb.py\", line 1062, in format_exception_as_a_whole\n",
      "  File \"c:\\Users\\bansa\\Desktop\\FND\\fakenews\\lib\\site-packages\\IPython\\core\\ultratb.py\", line 1113, in get_records\n",
      "  File \"c:\\Users\\bansa\\Desktop\\FND\\fakenews\\lib\\site-packages\\pygments\\styles\\__init__.py\", line 91, in get_style_by_name\n",
      "pygments.util.ClassNotFound: Could not find style module 'default', though it should be builtin.\n"
     ]
    }
   ],
   "source": [
    "#TODO: explore different vectorization available with sklearn.feature_extraction.text\n",
    "# Split the data\n",
    "X = data['text'].values \n",
    "Y = data['label'].values \n",
    "\n",
    "X_train, X_test, y_train, y_test = train_test_split(X, Y, test_size=0.2, random_state=42)\n",
    "\n",
    "# TfidfVectorizer\n",
    "vectorizer = TfidfVectorizer()\n",
    "X_train_vec = vectorizer.fit_transform(X_train)\n",
    "X_test_vec = vectorizer.transform(X_test)\n"
   ]
  },
  {
   "cell_type": "markdown",
   "id": "4bedd2b5-bc10-44f2-a254-7240d97998b6",
   "metadata": {},
   "source": [
    "<font size=\"4\">**Model training, Evaluation, and Prediction**</font>"
   ]
  },
  {
   "cell_type": "code",
   "execution_count": 34,
   "id": "be320ccb-91cc-4f16-beb6-af7bd1bb8cec",
   "metadata": {},
   "outputs": [
    {
     "name": "stdout",
     "output_type": "stream",
     "text": [
      "Unexpected exception formatting exception. Falling back to standard exception\n"
     ]
    },
    {
     "name": "stderr",
     "output_type": "stream",
     "text": [
      "Traceback (most recent call last):\n",
      "  File \"c:\\Users\\bansa\\Desktop\\FND\\fakenews\\lib\\site-packages\\IPython\\core\\interactiveshell.py\", line 3508, in run_code\n",
      "  File \"C:\\Users\\bansa\\AppData\\Local\\Temp\\ipykernel_4484\\2976424893.py\", line 4, in <module>\n",
      "    model = RandomForestClassifier(n_estimators=200, random_state=42)\n",
      "NameError: name 'RandomForestClassifier' is not defined\n",
      "\n",
      "During handling of the above exception, another exception occurred:\n",
      "\n",
      "Traceback (most recent call last):\n",
      "  File \"c:\\Users\\bansa\\Desktop\\FND\\fakenews\\lib\\site-packages\\pygments\\styles\\__init__.py\", line 89, in get_style_by_name\n",
      "ModuleNotFoundError: No module named 'pygments.styles.default'\n",
      "\n",
      "During handling of the above exception, another exception occurred:\n",
      "\n",
      "Traceback (most recent call last):\n",
      "  File \"c:\\Users\\bansa\\Desktop\\FND\\fakenews\\lib\\site-packages\\IPython\\core\\interactiveshell.py\", line 2105, in showtraceback\n",
      "  File \"c:\\Users\\bansa\\Desktop\\FND\\fakenews\\lib\\site-packages\\IPython\\core\\ultratb.py\", line 1428, in structured_traceback\n",
      "  File \"c:\\Users\\bansa\\Desktop\\FND\\fakenews\\lib\\site-packages\\IPython\\core\\ultratb.py\", line 1319, in structured_traceback\n",
      "  File \"c:\\Users\\bansa\\Desktop\\FND\\fakenews\\lib\\site-packages\\IPython\\core\\ultratb.py\", line 1172, in structured_traceback\n",
      "  File \"c:\\Users\\bansa\\Desktop\\FND\\fakenews\\lib\\site-packages\\IPython\\core\\ultratb.py\", line 1062, in format_exception_as_a_whole\n",
      "  File \"c:\\Users\\bansa\\Desktop\\FND\\fakenews\\lib\\site-packages\\IPython\\core\\ultratb.py\", line 1113, in get_records\n",
      "  File \"c:\\Users\\bansa\\Desktop\\FND\\fakenews\\lib\\site-packages\\pygments\\styles\\__init__.py\", line 91, in get_style_by_name\n",
      "pygments.util.ClassNotFound: Could not find style module 'default', though it should be builtin.\n"
     ]
    }
   ],
   "source": [
    "#TODO: Model training and print the accuracy score \n",
    "\n",
    "# Initialize and train the model\n",
    "model = RandomForestClassifier(n_estimators=200, random_state=42)\n",
    "model.fit(X_train_vec, y_train)\n",
    "\n",
    "# Make predictions on the test set\n",
    "y_pred = model.predict(X_test_vec)\n",
    "\n",
    "# Calculate accuracy\n",
    "accuracy = accuracy_score(y_test, y_pred)\n",
    "print(\"Accuracy:\", accuracy)"
   ]
  },
  {
   "cell_type": "code",
   "execution_count": 35,
   "id": "10695133-29fa-48dd-bcab-72ebe1c4047e",
   "metadata": {},
   "outputs": [
    {
     "name": "stdout",
     "output_type": "stream",
     "text": [
      "Unexpected exception formatting exception. Falling back to standard exception\n"
     ]
    },
    {
     "name": "stderr",
     "output_type": "stream",
     "text": [
      "Traceback (most recent call last):\n",
      "  File \"c:\\Users\\bansa\\Desktop\\FND\\fakenews\\lib\\site-packages\\IPython\\core\\interactiveshell.py\", line 3508, in run_code\n",
      "  File \"C:\\Users\\bansa\\AppData\\Local\\Temp\\ipykernel_4484\\2174647123.py\", line 4, in <module>\n",
      "    cm = confusion_matrix(y_test, y_pred)\n",
      "NameError: name 'confusion_matrix' is not defined\n",
      "\n",
      "During handling of the above exception, another exception occurred:\n",
      "\n",
      "Traceback (most recent call last):\n",
      "  File \"c:\\Users\\bansa\\Desktop\\FND\\fakenews\\lib\\site-packages\\pygments\\styles\\__init__.py\", line 89, in get_style_by_name\n",
      "ModuleNotFoundError: No module named 'pygments.styles.default'\n",
      "\n",
      "During handling of the above exception, another exception occurred:\n",
      "\n",
      "Traceback (most recent call last):\n",
      "  File \"c:\\Users\\bansa\\Desktop\\FND\\fakenews\\lib\\site-packages\\IPython\\core\\interactiveshell.py\", line 2105, in showtraceback\n",
      "  File \"c:\\Users\\bansa\\Desktop\\FND\\fakenews\\lib\\site-packages\\IPython\\core\\ultratb.py\", line 1428, in structured_traceback\n",
      "  File \"c:\\Users\\bansa\\Desktop\\FND\\fakenews\\lib\\site-packages\\IPython\\core\\ultratb.py\", line 1319, in structured_traceback\n",
      "  File \"c:\\Users\\bansa\\Desktop\\FND\\fakenews\\lib\\site-packages\\IPython\\core\\ultratb.py\", line 1172, in structured_traceback\n",
      "  File \"c:\\Users\\bansa\\Desktop\\FND\\fakenews\\lib\\site-packages\\IPython\\core\\ultratb.py\", line 1062, in format_exception_as_a_whole\n",
      "  File \"c:\\Users\\bansa\\Desktop\\FND\\fakenews\\lib\\site-packages\\IPython\\core\\ultratb.py\", line 1113, in get_records\n",
      "  File \"c:\\Users\\bansa\\Desktop\\FND\\fakenews\\lib\\site-packages\\pygments\\styles\\__init__.py\", line 91, in get_style_by_name\n",
      "pygments.util.ClassNotFound: Could not find style module 'default', though it should be builtin.\n"
     ]
    }
   ],
   "source": [
    "# Display the Confusion matrix of Results from your classification algorithm\n",
    "\n",
    "# Calculate the confusion matrix\n",
    "cm = confusion_matrix(y_test, y_pred)\n",
    "\n",
    "# Display the confusion matrix\n",
    "print(\"Confusion Matrix:\")\n",
    "print(cm)\n"
   ]
  },
  {
   "cell_type": "code",
   "execution_count": 36,
   "id": "25016dd6-1929-4222-9d5b-a21fc6817e7a",
   "metadata": {},
   "outputs": [
    {
     "name": "stdout",
     "output_type": "stream",
     "text": [
      "Unexpected exception formatting exception. Falling back to standard exception\n"
     ]
    },
    {
     "name": "stderr",
     "output_type": "stream",
     "text": [
      "Traceback (most recent call last):\n",
      "  File \"c:\\Users\\bansa\\Desktop\\FND\\fakenews\\lib\\site-packages\\IPython\\core\\interactiveshell.py\", line 3508, in run_code\n",
      "  File \"C:\\Users\\bansa\\AppData\\Local\\Temp\\ipykernel_4484\\2104470318.py\", line 22, in <module>\n",
      "    prediction = predict_fake_news(text)\n",
      "  File \"C:\\Users\\bansa\\AppData\\Local\\Temp\\ipykernel_4484\\2104470318.py\", line 4, in predict_fake_news\n",
      "    preprocessed_input = preprocess_text(news)\n",
      "  File \"C:\\Users\\bansa\\AppData\\Local\\Temp\\ipykernel_4484\\4085720069.py\", line 5, in preprocess_text\n",
      "    text = re.sub(r'http\\S+|www\\S+|https\\S+', '', text)\n",
      "NameError: name 're' is not defined\n",
      "\n",
      "During handling of the above exception, another exception occurred:\n",
      "\n",
      "Traceback (most recent call last):\n",
      "  File \"c:\\Users\\bansa\\Desktop\\FND\\fakenews\\lib\\site-packages\\pygments\\styles\\__init__.py\", line 89, in get_style_by_name\n",
      "ModuleNotFoundError: No module named 'pygments.styles.default'\n",
      "\n",
      "During handling of the above exception, another exception occurred:\n",
      "\n",
      "Traceback (most recent call last):\n",
      "  File \"c:\\Users\\bansa\\Desktop\\FND\\fakenews\\lib\\site-packages\\IPython\\core\\interactiveshell.py\", line 2105, in showtraceback\n",
      "  File \"c:\\Users\\bansa\\Desktop\\FND\\fakenews\\lib\\site-packages\\IPython\\core\\ultratb.py\", line 1428, in structured_traceback\n",
      "  File \"c:\\Users\\bansa\\Desktop\\FND\\fakenews\\lib\\site-packages\\IPython\\core\\ultratb.py\", line 1319, in structured_traceback\n",
      "  File \"c:\\Users\\bansa\\Desktop\\FND\\fakenews\\lib\\site-packages\\IPython\\core\\ultratb.py\", line 1172, in structured_traceback\n",
      "  File \"c:\\Users\\bansa\\Desktop\\FND\\fakenews\\lib\\site-packages\\IPython\\core\\ultratb.py\", line 1062, in format_exception_as_a_whole\n",
      "  File \"c:\\Users\\bansa\\Desktop\\FND\\fakenews\\lib\\site-packages\\IPython\\core\\ultratb.py\", line 1113, in get_records\n",
      "  File \"c:\\Users\\bansa\\Desktop\\FND\\fakenews\\lib\\site-packages\\pygments\\styles\\__init__.py\", line 91, in get_style_by_name\n",
      "pygments.util.ClassNotFound: Could not find style module 'default', though it should be builtin.\n"
     ]
    }
   ],
   "source": [
    "# Prediction of the news\n",
    "def predict_fake_news(news):\n",
    "    # Preprocess the user input\n",
    "    preprocessed_input = preprocess_text(news)\n",
    "\n",
    "    # Vectorize the user input\n",
    "    user_input_vec = vectorizer.transform([preprocessed_input])\n",
    "\n",
    "    # Make the prediction\n",
    "    prediction = model.predict(user_input_vec)\n",
    "\n",
    "    # Interpret the prediction\n",
    "    if prediction[0] == 1:\n",
    "        return \"\\nThe news is classified as TRUE.\"\n",
    "    else:\n",
    "        return \"\\nThe news is classified as FAKE .\"\n",
    "\n",
    "# Prediction of the user input news\n",
    "title = input(\"Enter the news title: \\n\")\n",
    "article = input(\"\\nEnter the news article: \\n\")\n",
    "text=title+\" \"+article\n",
    "prediction = predict_fake_news(text)\n",
    "print(prediction)\n"
   ]
  },
  {
   "cell_type": "code",
   "execution_count": null,
   "id": "c804630b-6e92-4d17-8881-6c677991fdcf",
   "metadata": {},
   "outputs": [],
   "source": []
  }
 ],
 "metadata": {
  "kernelspec": {
   "display_name": "myenv",
   "language": "python",
   "name": "python3"
  },
  "language_info": {
   "codemirror_mode": {
    "name": "ipython",
    "version": 3
   },
   "file_extension": ".py",
   "mimetype": "text/x-python",
   "name": "python",
   "nbconvert_exporter": "python",
   "pygments_lexer": "ipython3",
   "version": "3.10.4"
  }
 },
 "nbformat": 4,
 "nbformat_minor": 5
}
